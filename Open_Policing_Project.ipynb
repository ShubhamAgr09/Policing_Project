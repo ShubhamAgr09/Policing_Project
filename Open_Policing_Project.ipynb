{
  "nbformat": 4,
  "nbformat_minor": 0,
  "metadata": {
    "colab": {
      "name": "Open Policing Project.ipynb",
      "provenance": [],
      "collapsed_sections": []
    },
    "kernelspec": {
      "name": "python3",
      "display_name": "Python 3"
    },
    "language_info": {
      "name": "python"
    }
  },
  "cells": [
    {
      "cell_type": "code",
      "execution_count": 1,
      "metadata": {
        "id": "IJkxPBxrLcFu"
      },
      "outputs": [],
      "source": [
        "import pandas as pd\n",
        "import numpy as np\n",
        "from datetime import datetime\n",
        "import matplotlib.pyplot as plt\n",
        "import seaborn as sns\n",
        "import warnings\n",
        "warnings.filterwarnings('ignore')"
      ]
    },
    {
      "cell_type": "markdown",
      "source": [
        "#DATA CLEANING\n"
      ],
      "metadata": {
        "id": "GMmyOdE8lpwC"
      }
    },
    {
      "cell_type": "code",
      "source": [
        "df = pd.read_csv('https://raw.githubusercontent.com/ShubhamAgr09/Training-Datasets/main/police_project.csv')"
      ],
      "metadata": {
        "id": "APBPi0AKL5Nt"
      },
      "execution_count": 2,
      "outputs": []
    },
    {
      "cell_type": "code",
      "source": [
        "df.drop('county_name',axis=1,inplace=True)\n",
        "df['stop_date'] = pd.to_datetime(df['stop_date'])\n",
        "df['stop_time'] = pd.to_datetime(df['stop_time'])\n",
        "df['stop_duration'] = df['stop_duration'].str.replace(' Min','')\n",
        "\n",
        "# 0 and 'Not Listed' Represents Null values\n",
        "df['driver_age_raw'].fillna(0,inplace=True)\n",
        "df['driver_age'].fillna(0,inplace=True)\n",
        "df['stop_duration'].fillna(0,inplace=True)\n",
        "\n",
        "df['violation_raw'].fillna('Not Listed',inplace=True)\n",
        "df['driver_race'].fillna('Not Listed',inplace=True)\n",
        "df['driver_gender'].fillna('Not Listed',inplace=True)\n",
        "df['search_type'].fillna('Not Listed',inplace=True)\n",
        "df['stop_outcome'].fillna('Not Listed',inplace=True)\n",
        "df['is_arrested'].fillna('Not Listed',inplace=True)\n",
        "df['violation'].fillna('Not Listed',inplace=True)"
      ],
      "metadata": {
        "id": "NzfdSRs9MaST"
      },
      "execution_count": 3,
      "outputs": []
    },
    {
      "cell_type": "markdown",
      "source": [
        "#Analysing the Data And Answering the Questions:-"
      ],
      "metadata": {
        "id": "sYN4FITZlygK"
      }
    },
    {
      "cell_type": "markdown",
      "source": [
        "##1. Do men or women speed more often?  \n"
      ],
      "metadata": {
        "id": "n1BkeeKjmBVM"
      }
    },
    {
      "cell_type": "code",
      "source": [
        "sns.catplot('driver_gender', data=df, kind=\"count\", height=7)"
      ],
      "metadata": {
        "colab": {
          "base_uri": "https://localhost:8080/",
          "height": 530
        },
        "id": "pfHcWiRWDv3l",
        "outputId": "11db82ab-0ec8-4384-e5ea-f404eeba20b9"
      },
      "execution_count": 4,
      "outputs": [
        {
          "output_type": "execute_result",
          "data": {
            "text/plain": [
              "<seaborn.axisgrid.FacetGrid at 0x7f7a4fea3910>"
            ]
          },
          "metadata": {},
          "execution_count": 4
        },
        {
          "output_type": "display_data",
          "data": {
            "text/plain": [
              "<Figure size 504x504 with 1 Axes>"
            ],
            "image/png": "[encoded data removed]"
          },
          "metadata": {
            "needs_background": "light"
          }
        }
      ]
    },
    {
      "cell_type": "code",
      "source": [
        "print(df[df['violation']=='Speeding'].driver_gender.value_counts(normalize=True))\n",
        "print(\"\\n*It has been shown that 68 percent of total population that are fined for speeding are males.\\\n",
        "       \\n Hence for conclusion, Men Speed more often than Women.\")"
      ],
      "metadata": {
        "colab": {
          "base_uri": "https://localhost:8080/"
        },
        "id": "MK4dThNwNAgL",
        "outputId": "49df3091-ef08-4a56-ba45-8b65e07df894"
      },
      "execution_count": 5,
      "outputs": [
        {
          "output_type": "stream",
          "name": "stdout",
          "text": [
            "M             0.680499\n",
            "F             0.319460\n",
            "Not Listed    0.000041\n",
            "Name: driver_gender, dtype: float64\n",
            "\n",
            "*It has been shown that 68 percent of total population that are fined for speeding are males.       \n",
            " Hence for conclusion, Men Speed more often than Women.\n"
          ]
        }
      ]
    },
    {
      "cell_type": "markdown",
      "source": [
        "##2. Does gender affect who gets searched during a stop?"
      ],
      "metadata": {
        "id": "SwLZBAphMaes"
      }
    },
    {
      "cell_type": "code",
      "source": [
        "plt.figure(figsize=(12, 12))\n",
        "\n",
        "plt.subplot(2, 2, 1)\n",
        "df.loc[df.search_conducted, 'driver_gender'].value_counts().plot(kind=\"bar\")\n",
        "plt.title(\"Searched Men and Women\")\n",
        "\n",
        "plt.subplot(2, 2, 2)\n",
        "df.groupby(['violation', 'driver_gender']).search_conducted.mean().plot(kind=\"bar\")"
      ],
      "metadata": {
        "colab": {
          "base_uri": "https://localhost:8080/",
          "height": 499
        },
        "id": "eeCrO5WCDzse",
        "outputId": "89ded774-ee75-432c-beed-cd1077c1e3c2"
      },
      "execution_count": 6,
      "outputs": [
        {
          "output_type": "execute_result",
          "data": {
            "text/plain": [
              "<matplotlib.axes._subplots.AxesSubplot at 0x7f7a4c17c3d0>"
            ]
          },
          "metadata": {},
          "execution_count": 6
        },
        {
          "output_type": "display_data",
          "data": {
            "text/plain": [
              "<Figure size 864x864 with 2 Axes>"
            ],
            "image/png": "[encoded data removed]"
          },
          "metadata": {
            "needs_background": "light"
          }
        }
      ]
    },
    {
      "cell_type": "code",
      "source": [
        "print(df.groupby('search_conducted').driver_gender.value_counts(normalize=True))\n",
        "print(\"\\n*As we can see 85 percent of total searches are conducted on Male and the same is also observable from the shown graphs.\\\n",
        "       \\n Hence, we can conclude that gender does affect who gets searched during a stop.\")"
      ],
      "metadata": {
        "id": "UMH7SH4QMapj",
        "colab": {
          "base_uri": "https://localhost:8080/"
        },
        "outputId": "98b79834-f5bb-43b4-e6e4-5e6abdf3de7a"
      },
      "execution_count": 7,
      "outputs": [
        {
          "output_type": "stream",
          "name": "stdout",
          "text": [
            "search_conducted  driver_gender\n",
            "False             M                0.679541\n",
            "                  F                0.260207\n",
            "                  Not Listed       0.060252\n",
            "True              M                0.852628\n",
            "                  F                0.147372\n",
            "Name: driver_gender, dtype: float64\n",
            "\n",
            "*As we can see 85 percent of total searches are conducted on Male and the same is also observable from the shown graphs.       \n",
            " Hence, we can conclude that gender does affect who gets searched during a stop.\n"
          ]
        }
      ]
    },
    {
      "cell_type": "markdown",
      "source": [
        "##3. During a search, how often is the driver frisked?  \n"
      ],
      "metadata": {
        "id": "KRVyhRo9wo_F"
      }
    },
    {
      "cell_type": "code",
      "source": [
        "print(df.search_type.value_counts())\n",
        "count=df['search_type'].str.contains('Protective Frisk').sum()"
      ],
      "metadata": {
        "colab": {
          "base_uri": "https://localhost:8080/"
        },
        "id": "aWREIdyA9Ipp",
        "outputId": "9a2ab840-4b01-442e-8eff-057fda5d5a67"
      },
      "execution_count": 8,
      "outputs": [
        {
          "output_type": "stream",
          "name": "stdout",
          "text": [
            "Not Listed                                                  88545\n",
            "Incident to Arrest                                           1219\n",
            "Probable Cause                                                891\n",
            "Inventory                                                     220\n",
            "Reasonable Suspicion                                          197\n",
            "Protective Frisk                                              161\n",
            "Incident to Arrest,Inventory                                  129\n",
            "Incident to Arrest,Probable Cause                             106\n",
            "Probable Cause,Reasonable Suspicion                            75\n",
            "Incident to Arrest,Inventory,Probable Cause                    34\n",
            "Probable Cause,Protective Frisk                                33\n",
            "Incident to Arrest,Protective Frisk                            33\n",
            "Inventory,Probable Cause                                       22\n",
            "Incident to Arrest,Reasonable Suspicion                        13\n",
            "Incident to Arrest,Inventory,Protective Frisk                  11\n",
            "Protective Frisk,Reasonable Suspicion                          11\n",
            "Inventory,Protective Frisk                                     11\n",
            "Incident to Arrest,Probable Cause,Protective Frisk             10\n",
            "Incident to Arrest,Probable Cause,Reasonable Suspicion          6\n",
            "Incident to Arrest,Inventory,Reasonable Suspicion               4\n",
            "Inventory,Reasonable Suspicion                                  4\n",
            "Inventory,Probable Cause,Protective Frisk                       2\n",
            "Inventory,Probable Cause,Reasonable Suspicion                   2\n",
            "Incident to Arrest,Protective Frisk,Reasonable Suspicion        1\n",
            "Probable Cause,Protective Frisk,Reasonable Suspicion            1\n",
            "Name: search_type, dtype: int64\n"
          ]
        }
      ]
    },
    {
      "cell_type": "code",
      "source": [
        "print(\"\\n*If we calculate the total number of times a driver is frisked, then the total sums up to\",count,'.')"
      ],
      "metadata": {
        "colab": {
          "base_uri": "https://localhost:8080/"
        },
        "id": "TLP-VnqfbJdY",
        "outputId": "54d1650a-c528-40ba-d3ab-01023d4b6467"
      },
      "execution_count": 9,
      "outputs": [
        {
          "output_type": "stream",
          "name": "stdout",
          "text": [
            "\n",
            "*If we calculate the total number of times a driver is frisked, then the total sums up to 274 .\n"
          ]
        }
      ]
    },
    {
      "cell_type": "markdown",
      "source": [
        "\n",
        "##4. Which year had the least number of stops?  \n"
      ],
      "metadata": {
        "id": "MKfaQCnj2a1G"
      }
    },
    {
      "cell_type": "code",
      "source": [
        "df1 = df.copy()\n",
        "df1['YEAR'] = pd.DatetimeIndex(df.stop_date).year\n",
        "df2 = pd.DataFrame()\n",
        "plt.figure(figsize=(12, 8))\n",
        "df1.YEAR.value_counts().plot(kind=\"bar\")"
      ],
      "metadata": {
        "colab": {
          "base_uri": "https://localhost:8080/",
          "height": 515
        },
        "id": "98JgRoTpbJxF",
        "outputId": "69085ee3-2a04-4351-d4ae-709301d3b199"
      },
      "execution_count": 10,
      "outputs": [
        {
          "output_type": "execute_result",
          "data": {
            "text/plain": [
              "<matplotlib.axes._subplots.AxesSubplot at 0x7f7a4c133090>"
            ]
          },
          "metadata": {},
          "execution_count": 10
        },
        {
          "output_type": "display_data",
          "data": {
            "text/plain": [
              "<Figure size 864x576 with 1 Axes>"
            ],
            "image/png": "[encoded data removed]"
          },
          "metadata": {
            "needs_background": "light"
          }
        }
      ]
    },
    {
      "cell_type": "code",
      "source": [
        "# print(df1.groupby('YEAR').stop_outcome.count().sort_values())\n",
        "print(\"\\n*As we can see the number of stops are least in year 2005.\")"
      ],
      "metadata": {
        "colab": {
          "base_uri": "https://localhost:8080/"
        },
        "id": "5X1_Gfnvflz8",
        "outputId": "15b01914-b907-463b-8b95-201bdc2ae397"
      },
      "execution_count": 11,
      "outputs": [
        {
          "output_type": "stream",
          "name": "stdout",
          "text": [
            "\n",
            "*As we can see the number of stops are least in year 2005.\n"
          ]
        }
      ]
    },
    {
      "cell_type": "markdown",
      "source": [
        "##5. How does drug activity change by time of day?\n"
      ],
      "metadata": {
        "id": "slwHkgaH3daz"
      }
    },
    {
      "cell_type": "code",
      "source": [
        "day_time = df[(df['stop_time'] > '05:00:00') & (df['stop_time'] <= '19:59:00')]"
      ],
      "metadata": {
        "id": "Wc3LM7cqAgKo"
      },
      "execution_count": 12,
      "outputs": []
    },
    {
      "cell_type": "code",
      "source": [
        "df3 = day_time[['stop_time','drugs_related_stop']].copy()\n",
        "# print(df3[df3.drugs_related_stop==True].count)\n",
        "day_time_stoppage = df3[df3.drugs_related_stop==True]['drugs_related_stop'].count()\n",
        "total_stoppage = df[df.drugs_related_stop==True]['drugs_related_stop'].count()"
      ],
      "metadata": {
        "id": "jEM8O79cbJ6M"
      },
      "execution_count": 13,
      "outputs": []
    },
    {
      "cell_type": "code",
      "source": [
        "print(\"*As the total stoppages are {0} and stoppages during day time are {1},\\\n",
        "     \\n We can conclude that most drug related stoppages occur at night time as more than half of drug related stopagges happen at night.\".format(day_time_stoppage,total_stoppage))"
      ],
      "metadata": {
        "colab": {
          "base_uri": "https://localhost:8080/"
        },
        "id": "6vD_rtaIanr0",
        "outputId": "41647889-f247-478f-8db8-5176461edff9"
      },
      "execution_count": 14,
      "outputs": [
        {
          "output_type": "stream",
          "name": "stdout",
          "text": [
            "*As the total stoppages are 397 and stoppages during day time are 815,     \n",
            " We can conclude that most drug related stoppages occur at night time as more than half of drug related stopagges happen at night.\n"
          ]
        }
      ]
    },
    {
      "cell_type": "markdown",
      "source": [
        "##Do most stops occur at night?"
      ],
      "metadata": {
        "id": "LIb5hT2DWbPH"
      }
    },
    {
      "cell_type": "code",
      "source": [
        "night_time = df[(df['stop_time'] >= '20:00:00') & (df['stop_time'] == '00:00:00') | ((df['stop_time'] >= '00:00:00') & (df['stop_time'] < '04:59:00'))]"
      ],
      "metadata": {
        "id": "HhWQ-peDf908"
      },
      "execution_count": 15,
      "outputs": []
    },
    {
      "cell_type": "code",
      "source": [
        "df4 = night_time[['stop_time']].copy()\n",
        "night_stops = df4.stop_time.count()\n",
        "total_stops = df.stop_time.count()\n",
        "print(\"*Total stops that occur are {0} and stops that occur only at night are {1}.\\\n",
        "        \\nAs we can see that stops occuring at night are less than half of total stops, we can conclude that \".format(total_stops,night_stops))"
      ],
      "metadata": {
        "colab": {
          "base_uri": "https://localhost:8080/"
        },
        "id": "oFXk3uOnW5Jv",
        "outputId": "5d81d095-f35b-4cf3-9fa9-4e9e565f20a8"
      },
      "execution_count": 16,
      "outputs": [
        {
          "output_type": "stream",
          "name": "stdout",
          "text": [
            "*Total stops that occur are 91741 and stops that occur only at night are 14062.        \n",
            "As we can see that stops occuring at night are less than half of total stops, we can conclude that \n"
          ]
        }
      ]
    }
  ]
}